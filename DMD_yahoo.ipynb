{
 "cells": [
  {
   "cell_type": "markdown",
   "metadata": {
    "slideshow": {
     "slide_type": "slide"
    }
   },
   "source": [
    "# Dynamic Mode Decomposition for Trading\n",
    "### Karpov Gleb, Ponomarev Evgeny, Vetsler Denis, Zankin Vitaly\n"
   ]
  },
  {
   "cell_type": "code",
   "execution_count": 65,
   "metadata": {
    "ExecuteTime": {
     "end_time": "2016-12-16T06:18:21.019414",
     "start_time": "2016-12-16T06:18:20.993457"
    },
    "code_folding": [
     0
    ],
    "collapsed": false,
    "slideshow": {
     "slide_type": "slide"
    }
   },
   "outputs": [],
   "source": [
    "# Импорты\n",
    "import warnings\n",
    "warnings.filterwarnings(\"ignore\")\n",
    "import pandas as pd\n",
    "import numpy as np\n",
    "import matplotlib.pyplot as plt\n",
    "import matplotlib as mlp\n",
    "import os\n",
    "from multiprocessing import Pool\n",
    "import pybacktest as pb\n",
    "import scipy\n",
    "import numpy.linalg\n",
    "import scipy.linalg\n",
    "from yahoo_finance import Share\n",
    "from pandas_datareader import data as pd_data\n",
    "# import pandas-datareader\n",
    "from pandas import Panel, DataFrame\n",
    "import datetime\n",
    "# %matplotlib inline\n",
    "# import mpld3\n",
    "# mpld3.enable_notebook()\n",
    "# %load_ext ipycache"
   ]
  },
  {
   "cell_type": "code",
   "execution_count": 66,
   "metadata": {
    "ExecuteTime": {
     "end_time": "2016-12-16T06:18:22.360246",
     "start_time": "2016-12-16T06:18:22.299058"
    },
    "code_folding": [],
    "collapsed": false
   },
   "outputs": [],
   "source": [
    "# Поиск аналитического решения X_DMD, такого что X_i+1 = AX_i\n",
    "# X - выборка N фич на M временных слотов от 0го до M-1\n",
    "# Y - выборка N фич на M временных слотов от 1го до M\n",
    "# AX = Y\n",
    "# r - ранг reduce SVD\n",
    "def DMD(X, Y, r):\n",
    "    # Найдем SVD от X\n",
    "    U,s,V = np.linalg.svd(X)\n",
    "    # Reduce SVD: X(NxM) = U(Nxr)S(rxr)V*(rxM)\n",
    "    U = U[:,:r]\n",
    "    S = np.diag(s[:r])\n",
    "    V = V[:r,:]\n",
    "    inv_S = np.linalg.inv(S)\n",
    "    # A_bar = U*AU = U*YX^-1U = U*YVS^-1\n",
    "    A_bar = (U.T).dot(Y).dot(V.T).dot(inv_S)\n",
    "    # vals*vecs = A_bar*vecs - собственные векторы и значения A_bar\n",
    "    vals, vecs = scipy.linalg.eig(A_bar)\n",
    "    # psi = Uvecs - обратная проекция - получим с.в. и с.з. A\n",
    "    Psi = U.dot(vecs)\n",
    "    eigens = np.log(vals)\n",
    "    # Начальные (X(0)) амплитуды\n",
    "    b = np.linalg.pinv(Psi).dot(X[:,0])\n",
    "    \n",
    "    # Аналитическое решение\n",
    "    def comp_X(t):\n",
    "        t = t\n",
    "        D = np.diag(np.exp(eigens*t))\n",
    "        X_DMD = Psi.dot(D).dot(b)\n",
    "        return X_DMD\n",
    "    \n",
    "    return comp_X\n",
    "\n",
    "# Функция получения знака проиизводной\n",
    "# возвращает +1 в позиции (i,j), если сfтоимость акции i выросла в момент времени j + 1\n",
    "# возвращает -1 в позиции (i,j), если стоимость акции i уменьшилась в момент времени j + 1\n",
    "def trend_per_time_unit(data):\n",
    "    for i in range(1, data.shape[1]):\n",
    "        data[:, i - 1] = (data[:, i] - data[:, i - 1]) / np.abs((data[:, i] - data[:, i - 1]))\n",
    "    data = np.delete(data, data.shape[1] - 1, axis = 1) # удаляем последний столбец \n",
    "    data = np.nan_to_num(data) # заменяем nan на 0\n",
    "    return data"
   ]
  },
  {
   "cell_type": "code",
   "execution_count": 70,
   "metadata": {
    "ExecuteTime": {
     "end_time": "2016-12-16T06:22:55.116965",
     "start_time": "2016-12-16T06:22:51.922928"
    },
    "code_folding": [],
    "collapsed": false
   },
   "outputs": [],
   "source": [
    "# Тренировочная выборка\n",
    "start = datetime.datetime(2010, 9, 1)\n",
    "end = datetime.datetime(2015, 9, 1)\n",
    "\n",
    "# Акции компаний нефтехимической отрасли с ММВБ\n",
    "share_names = ['SNGSP.ME', 'LKOH.ME', 'ROSN.ME', 'GAZP.ME',\\\n",
    "               'NVTK.ME', 'TRNFP.ME', 'TATNP.ME', 'AKRN.ME',\\\n",
    "               'TATN.ME', 'URKA.ME', 'SIBN.ME', 'BANEP.ME', 'DOW']\n",
    "\n",
    "# Использование API Yahoo! для получения исторических данных биржи\n",
    "data = dict((share, pd_data.DataReader(share, \"yahoo\", start, end, pause=1)) for share in share_names)\n",
    "panel = Panel(data).swapaxes('items', 'minor')\n",
    "# Удаление NaN-ов и переход от pandas DataFrame к np.array со значениями\n",
    "closing = panel['Close'].dropna()\n",
    "closes = closing.values.T"
   ]
  },
  {
   "cell_type": "code",
   "execution_count": 71,
   "metadata": {
    "ExecuteTime": {
     "end_time": "2016-12-16T06:34:12.175232",
     "start_time": "2016-12-16T06:22:57.280994"
    },
    "code_folding": [],
    "collapsed": false
   },
   "outputs": [
    {
     "name": "stdout",
     "output_type": "stream",
     "text": [
      "10\n",
      "11\n",
      "12\n",
      "13\n",
      "14\n",
      "15\n",
      "16\n",
      "17\n",
      "18\n",
      "19\n",
      "20\n",
      "21\n",
      "22\n",
      "23\n",
      "24\n",
      "25\n"
     ]
    }
   ],
   "source": [
    "# Возьмем из данных окно из M последних дней\n",
    "# Будем смотреть на l дней вперед в аналитической функции\n",
    "# Если значение аналитической ф-ии в t+l -тый день больше, чем в t-ый, то тренд растущий - нужно покупать\n",
    "r = 10\n",
    "M_len = 16\n",
    "L_len = 10\n",
    "# Запишем процент правильно принятых решений\n",
    "winrates = np.zeros((len(share_names), M_len, L_len))\n",
    "# Индекс Шарпа - mean(x)/std(x)\n",
    "sharpes = np.zeros((len(share_names), M_len, L_len))\n",
    "# Относительный прирост капитала\n",
    "payoffs = np.zeros((len(share_names), M_len, L_len))\n",
    "# Найдем оптимальные M и l, на которых winrate, sharpe и payoff максимальны (вместе с окресностями)\n",
    "for M in range(r, r+M_len):\n",
    "    for l in range(1, 1+L_len):\n",
    "        # Нормируем данные\n",
    "        test_data = (closes.T / np.mean(closes, axis=1) - 1).T\n",
    "        trend_estimation = np.zeros(test_data.shape) \n",
    "        for t in range(M, test_data.shape[1]):\n",
    "            Y = test_data[:,t-M+1:t+1]\n",
    "            X = test_data[:,t-M:t]\n",
    "            compute_X = DMD(X,Y,r)\n",
    "            # Получи знак тренда +1 - рост, -1 - падение\n",
    "            trend_estimation[:,t] = np.sign(compute_X(M+l)-compute_X(M))\n",
    "        \n",
    "        # Для каждой акции из shares_names запишем статистику\n",
    "        for k in range(len(share_names)):\n",
    "            # Обработка результатов\n",
    "            # Торговая система - покупаем/продаем в зависимости от предсказанного класса\n",
    "            buy = cover = pd.Series(trend_estimation[k,:] > 0, index=closing.index)\n",
    "            sell = short = pd.Series(trend_estimation[k,:] < 0, index=closing.index)\n",
    "            # Цены открытия, максимальные, минимальные и закрытия. Нужны для подсчета метрик бэктестером\n",
    "            O = panel['Open'][share_names[k]]\n",
    "            H = panel['High'][share_names[k]]\n",
    "            L = panel['Low'][share_names[k]]\n",
    "            C = panel['Close'][share_names[k]]\n",
    "            d = {'O': O.values, 'H': H.values, 'L': L.values, 'C': C.values}\n",
    "            # Запишем OHLC в pandas DataFrame\n",
    "            OHLC = DataFrame(data=d, index=O.index)\n",
    "            # Бэктестер получает все переменные среды\n",
    "            bt = pb.Backtest(locals())\n",
    "            # Формирование отчета по системе\n",
    "            wr = bt.report\n",
    "            winrates[k,M-r,l-1] = wr['performance']['winrate']\n",
    "            sharpes[k,M-r,l-1] = wr['risk/return profile']['sharpe']\n",
    "            payoffs[k,M-r,l-1] = wr['performance']['payoff']\n",
    "    print(M)"
   ]
  },
  {
   "cell_type": "code",
   "execution_count": null,
   "metadata": {
    "ExecuteTime": {
     "start_time": "2016-12-16T04:52:23.477Z"
    },
    "code_folding": [],
    "collapsed": false
   },
   "outputs": [],
   "source": [
    "# Выберем акцию k для рассмотрения\n",
    "k = 8\n",
    "winrates_mean = winrates[k]\n",
    "sharpes_mean = sharpes[k]\n",
    "payoffs_mean = payoffs[k]\n",
    "\n",
    "# График процента правильно принятых решений\n",
    "# По осям y aka M-глубина окна используемых данных,\n",
    "#         x aka l-по какой точке в будущем предсказывать тренд\n",
    "fig = plt.figure(figsize=(6,6))\n",
    "ax1 = fig.add_subplot(111)\n",
    "img1 = ax1.imshow(winrates_mean,interpolation='nearest', cmap='jet')\n",
    "v = np.linspace(winrates_mean.min(), winrates_mean.max(), 4)\n",
    "cbar = plt.colorbar(img1, ax=ax1, ticks=v, orientation='vertical')\n",
    "ax1.set_title('Winrate')\n",
    "ax1.set_ylabel('M')\n",
    "ax1.set_xlabel('L')\n",
    "ax1.set_xticks(np.arange(0, L_len, 1));\n",
    "ax1.set_yticks(np.arange(0, M_len, 1));\n",
    "ax1.set_xticklabels(np.arange(1, 1+L_len))\n",
    "ax1.set_yticklabels(range(r, r+M_len))\n",
    "plt.savefig('winrates.png')\n",
    "plt.show()  \n",
    "plt.close()\n",
    "\n",
    "# График коэффициента Шарпа\n",
    "fig = plt.figure(figsize=(6,6))\n",
    "ax2 = fig.add_subplot(111)\n",
    "img2 = ax2.imshow(sharpes_mean,interpolation='nearest', cmap='jet')\n",
    "v = np.linspace(sharpes_mean.min(), sharpes_mean.max(), 4)\n",
    "cbar = plt.colorbar(img2, ax=ax2, ticks=v, orientation='vertical')\n",
    "ax2.set_title('Sharpe')\n",
    "ax2.set_ylabel('M')\n",
    "ax2.set_xlabel('L')\n",
    "ax2.set_xticks(np.arange(0, L_len, 1));\n",
    "ax2.set_yticks(np.arange(0, M_len, 1));\n",
    "ax2.set_xticklabels(np.arange(1, 1+L_len))\n",
    "ax2.set_yticklabels(range(r, r+M_len))\n",
    "plt.savefig('sharpe.png')\n",
    "plt.show()  \n",
    "plt.close()\n",
    "\n",
    "# График относительной прибыли\n",
    "fig = plt.figure(figsize=(6,6))\n",
    "ax3 = fig.add_subplot(111)\n",
    "img3 = ax3.imshow(payoffs_mean,interpolation='nearest', cmap='jet')\n",
    "v = np.linspace(payoffs_mean.min(), payoffs_mean.max(), 4)\n",
    "cbar = plt.colorbar(img3, ax=ax3, ticks=v, orientation='vertical')\n",
    "ax3.set_title('Payoff')\n",
    "ax3.set_ylabel('M')\n",
    "ax3.set_xlabel('L')\n",
    "ax3.set_xticks(np.arange(0, L_len, 1));\n",
    "ax3.set_yticks(np.arange(0, M_len, 1));\n",
    "ax3.set_xticklabels(np.arange(1, 1+L_len))\n",
    "ax3.set_yticklabels(range(r, r+M_len))\n",
    "plt.savefig('payoffs.png')\n",
    "plt.show()  \n",
    "plt.close()"
   ]
  },
  {
   "cell_type": "code",
   "execution_count": null,
   "metadata": {
    "ExecuteTime": {
     "end_time": "2016-12-16T06:22:23.530544",
     "start_time": "2016-12-16T03:18:11.932Z"
    },
    "collapsed": false
   },
   "outputs": [],
   "source": [
    "# Тестовая выборка\n",
    "# Все то же самое, что и в тренировочной выборке, толкько с найденными ранее M и l\n",
    "r = 10\n",
    "M = 18\n",
    "l = 4\n",
    "start = datetime.datetime(2015, 9, 1)\n",
    "end = datetime.datetime(2016, 3, 1)\n",
    "\n",
    "share_names = ['SNGSP.ME', 'LKOH.ME', 'ROSN.ME', 'GAZP.ME',\\\n",
    "               'NVTK.ME', 'TRNFP.ME', 'TATNP.ME', 'AKRN.ME',\\\n",
    "               'TATN.ME', 'URKA.ME', 'SIBN.ME', 'BANEP.ME', 'DOW']\n",
    "\n",
    "data = dict((share, pd_data.DataReader(share, \"yahoo\", start, end, pause=1)) for share in share_names)\n",
    "panel = Panel(data).swapaxes('items', 'minor')\n",
    "closing = panel['Close'].dropna()\n",
    "closes = closing.values.T\n",
    "\n",
    "test_data = (closes.T / np.mean(closes, axis=1) - 1).T\n",
    "trend_estimation = np.zeros(test_data.shape) \n",
    "for t in range(M, test_data.shape[1]):\n",
    "    Y = test_data[:,t-M+1:t+1]\n",
    "    X = test_data[:,t-M:t]\n",
    "    compute_X = DMD(X,Y,r)\n",
    "    trend_estimation[:,t] = np.sign(compute_X(M+l)-compute_X(M))\n",
    "\n",
    "buy = cover = pd.Series(trend_estimation[k,:] > 0, index=closing.index)\n",
    "sell = short = pd.Series(trend_estimation[k,:] < 0, index=closing.index)\n",
    "O = panel['Open'][share_names[k]]\n",
    "H = panel['High'][share_names[k]]\n",
    "L = panel['Low'][share_names[k]]\n",
    "C = panel['Close'][share_names[k]]\n",
    "d = {'O': O.values, 'H': H.values, 'L': L.values, 'C': C.values}\n",
    "OHLC = DataFrame(data=d, index=O.index)\n",
    "bt = pb.Backtest(locals())\n",
    "\n",
    "# Отчет по системе\n",
    "print(bt.report)\n",
    "# Основной график эквити\n",
    "fig = plt.figure(figsize=(12, 8))\n",
    "bt.plot_trades()\n",
    "plt.legend(loc = 'best')\n",
    "plt.title(share_names[k])\n",
    "plt.show()"
   ]
  }
 ],
 "metadata": {
  "anaconda-cloud": {},
  "celltoolbar": "Slideshow",
  "kernelspec": {
   "display_name": "Python [conda root]",
   "language": "python",
   "name": "conda-root-py"
  },
  "language_info": {
   "codemirror_mode": {
    "name": "ipython",
    "version": 3
   },
   "file_extension": ".py",
   "mimetype": "text/x-python",
   "name": "python",
   "nbconvert_exporter": "python",
   "pygments_lexer": "ipython3",
   "version": "3.5.2"
  },
  "nbpresent": {
   "slides": {
    "1d28e936-9040-4fc7-a7a8-39fd4ee3d224": {
     "id": "1d28e936-9040-4fc7-a7a8-39fd4ee3d224",
     "prev": "a1851250-279d-496c-b93b-66629428213f",
     "regions": {
      "38cb796d-d840-4558-9963-b457985c4d0d": {
       "attrs": {
        "height": 0.8,
        "width": 0.8,
        "x": 0.1,
        "y": 0.1
       },
       "content": {
        "cell": "43abef6a-9057-46ba-9328-c64f00af1880",
        "part": "whole"
       },
       "id": "38cb796d-d840-4558-9963-b457985c4d0d"
      }
     }
    },
    "9696bcae-6c50-4264-a72a-b6133bbf7d98": {
     "id": "9696bcae-6c50-4264-a72a-b6133bbf7d98",
     "prev": "b08612dd-9b7a-461a-aa88-0276cd918931",
     "regions": {
      "56b59bbd-5c93-42b0-b1e8-347b17c79dce": {
       "attrs": {
        "height": 0.8,
        "width": 0.8,
        "x": 0.1,
        "y": 0.1
       },
       "content": {
        "cell": "003e064d-84b1-4640-9cde-234efd430d9a",
        "part": "whole"
       },
       "id": "56b59bbd-5c93-42b0-b1e8-347b17c79dce"
      }
     }
    },
    "a1851250-279d-496c-b93b-66629428213f": {
     "id": "a1851250-279d-496c-b93b-66629428213f",
     "prev": null,
     "regions": {
      "7ac541ea-07a8-4db4-878a-78af7fceaa60": {
       "attrs": {
        "height": 0.8,
        "width": 0.8,
        "x": 0.1,
        "y": 0.1
       },
       "content": {
        "cell": "d5f9e9ed-f1e2-4742-bd78-0fa6c212fe75",
        "part": "whole"
       },
       "id": "7ac541ea-07a8-4db4-878a-78af7fceaa60"
      }
     }
    },
    "b08612dd-9b7a-461a-aa88-0276cd918931": {
     "id": "b08612dd-9b7a-461a-aa88-0276cd918931",
     "prev": "1d28e936-9040-4fc7-a7a8-39fd4ee3d224",
     "regions": {
      "02b1ef90-c923-4165-b80c-287067f5b2f3": {
       "attrs": {
        "height": 0.8,
        "width": 0.8,
        "x": 0.1,
        "y": 0.1
       },
       "content": {
        "cell": "d66f35a4-a6b5-4480-ba58-d167e34b8726",
        "part": "whole"
       },
       "id": "02b1ef90-c923-4165-b80c-287067f5b2f3"
      }
     }
    }
   },
   "themes": {
    "default": "c07840ff-5d91-4888-8cce-0a393da9e8ae",
    "theme": {
     "c07840ff-5d91-4888-8cce-0a393da9e8ae": {
      "backgrounds": {
       "dc7afa04-bf90-40b1-82a5-726e3cff5267": {
        "background-color": "31af15d2-7e15-44c5-ab5e-e04b16a89eff",
        "id": "dc7afa04-bf90-40b1-82a5-726e3cff5267"
       }
      },
      "id": "c07840ff-5d91-4888-8cce-0a393da9e8ae",
      "palette": {
       "19cc588f-0593-49c9-9f4b-e4d7cc113b1c": {
        "id": "19cc588f-0593-49c9-9f4b-e4d7cc113b1c",
        "rgb": [
         252,
         252,
         252
        ]
       },
       "31af15d2-7e15-44c5-ab5e-e04b16a89eff": {
        "id": "31af15d2-7e15-44c5-ab5e-e04b16a89eff",
        "rgb": [
         68,
         68,
         68
        ]
       },
       "50f92c45-a630-455b-aec3-788680ec7410": {
        "id": "50f92c45-a630-455b-aec3-788680ec7410",
        "rgb": [
         197,
         226,
         245
        ]
       },
       "c5cc3653-2ee1-402a-aba2-7caae1da4f6c": {
        "id": "c5cc3653-2ee1-402a-aba2-7caae1da4f6c",
        "rgb": [
         43,
         126,
         184
        ]
       },
       "efa7f048-9acb-414c-8b04-a26811511a21": {
        "id": "efa7f048-9acb-414c-8b04-a26811511a21",
        "rgb": [
         25.118061674008803,
         73.60176211453744,
         107.4819383259912
        ]
       }
      },
      "rules": {
       "a": {
        "color": "19cc588f-0593-49c9-9f4b-e4d7cc113b1c"
       },
       "blockquote": {
        "color": "50f92c45-a630-455b-aec3-788680ec7410",
        "font-size": 3
       },
       "code": {
        "font-family": "Anonymous Pro"
       },
       "h1": {
        "color": "19cc588f-0593-49c9-9f4b-e4d7cc113b1c",
        "font-family": "Merriweather",
        "font-size": 8
       },
       "h2": {
        "color": "19cc588f-0593-49c9-9f4b-e4d7cc113b1c",
        "font-family": "Merriweather",
        "font-size": 6
       },
       "h3": {
        "color": "50f92c45-a630-455b-aec3-788680ec7410",
        "font-family": "Lato",
        "font-size": 5.5
       },
       "h4": {
        "color": "c5cc3653-2ee1-402a-aba2-7caae1da4f6c",
        "font-family": "Lato",
        "font-size": 5
       },
       "h5": {
        "font-family": "Lato"
       },
       "h6": {
        "font-family": "Lato"
       },
       "h7": {
        "font-family": "Lato"
       },
       "li": {
        "color": "50f92c45-a630-455b-aec3-788680ec7410",
        "font-size": 3.25
       },
       "pre": {
        "font-family": "Anonymous Pro",
        "font-size": 4
       }
      },
      "text-base": {
       "color": "19cc588f-0593-49c9-9f4b-e4d7cc113b1c",
       "font-family": "Lato",
       "font-size": 4
      }
     }
    }
   }
  }
 },
 "nbformat": 4,
 "nbformat_minor": 1
}
